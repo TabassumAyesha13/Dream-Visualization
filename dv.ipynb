{
 "cells": [
  {
   "cell_type": "code",
   "execution_count": 77,
   "id": "54b6ca11-5f03-47b6-bcd0-1c8cd4c24a6d",
   "metadata": {},
   "outputs": [],
   "source": [
    "dream_description = \"i am so rich so much money and all of a sudden their is no money \"\n"
   ]
  },
  {
   "cell_type": "code",
   "execution_count": 78,
   "id": "9d24aad7-b02c-4670-ba2e-5afa16729e6a",
   "metadata": {},
   "outputs": [],
   "source": [
    "import nltk"
   ]
  },
  {
   "cell_type": "code",
   "execution_count": 79,
   "id": "c2d87f89-d759-4925-9c24-677f472be369",
   "metadata": {},
   "outputs": [],
   "source": [
    "from nltk.corpus import stopwords\n"
   ]
  },
  {
   "cell_type": "code",
   "execution_count": 80,
   "id": "bf31de8a-7ba7-4ef3-99ef-65c34272afaa",
   "metadata": {},
   "outputs": [],
   "source": [
    "from nltk.tokenize import word_tokenize"
   ]
  },
  {
   "cell_type": "code",
   "execution_count": 81,
   "id": "5da68a6e-13e7-4a83-bfe3-4c8b511c2895",
   "metadata": {},
   "outputs": [
    {
     "name": "stderr",
     "output_type": "stream",
     "text": [
      "[nltk_data] Downloading package punkt to C:\\Users\\Tabassum Ayesha\n",
      "[nltk_data]     H.R\\AppData\\Roaming\\nltk_data...\n",
      "[nltk_data]   Package punkt is already up-to-date!\n"
     ]
    },
    {
     "data": {
      "text/plain": [
       "True"
      ]
     },
     "execution_count": 81,
     "metadata": {},
     "output_type": "execute_result"
    }
   ],
   "source": [
    "nltk.download('punkt')\n"
   ]
  },
  {
   "cell_type": "code",
   "execution_count": 82,
   "id": "5e0c6019-f4d1-40ee-83a5-27ab33fcabed",
   "metadata": {},
   "outputs": [
    {
     "name": "stderr",
     "output_type": "stream",
     "text": [
      "[nltk_data] Downloading package stopwords to C:\\Users\\Tabassum Ayesha\n",
      "[nltk_data]     H.R\\AppData\\Roaming\\nltk_data...\n",
      "[nltk_data]   Package stopwords is already up-to-date!\n"
     ]
    },
    {
     "data": {
      "text/plain": [
       "True"
      ]
     },
     "execution_count": 82,
     "metadata": {},
     "output_type": "execute_result"
    }
   ],
   "source": [
    "nltk.download('stopwords')\n"
   ]
  },
  {
   "cell_type": "code",
   "execution_count": 83,
   "id": "57246eae-775d-47eb-9d78-f07545875e6a",
   "metadata": {},
   "outputs": [],
   "source": [
    "def extract_keywords(dream_description):\n",
    "    words = word_tokenize(dream_description)\n",
    "    stop_words = set(stopwords.words('english'))\n",
    "    keywords = [word for word in words if word.isalnum() and word.lower() not in stop_words]\n",
    "    return keywords"
   ]
  },
  {
   "cell_type": "code",
   "execution_count": 84,
   "id": "78b5eb8c-7847-464e-ae93-ab66ac395a1d",
   "metadata": {},
   "outputs": [
    {
     "name": "stdout",
     "output_type": "stream",
     "text": [
      "Extracted keywords:  ['rich', 'much', 'money', 'sudden', 'money']\n"
     ]
    }
   ],
   "source": [
    "keywords = extract_keywords(dream_description)\n",
    "print(\"Extracted keywords: \", keywords)\n"
   ]
  },
  {
   "cell_type": "code",
   "execution_count": 85,
   "id": "d73bc09b-17e1-4a6c-8313-ddda11c17b1d",
   "metadata": {},
   "outputs": [
    {
     "name": "stdout",
     "output_type": "stream",
     "text": [
      "Defaulting to user installation because normal site-packages is not writeable\n",
      "Requirement already satisfied: requests in c:\\users\\tabassum ayesha h.r\\appdata\\roaming\\python\\python312\\site-packages (2.32.3)\n",
      "Requirement already satisfied: charset-normalizer<4,>=2 in c:\\users\\tabassum ayesha h.r\\appdata\\roaming\\python\\python312\\site-packages (from requests) (3.3.2)\n",
      "Requirement already satisfied: idna<4,>=2.5 in c:\\users\\tabassum ayesha h.r\\appdata\\roaming\\python\\python312\\site-packages (from requests) (3.7)\n",
      "Requirement already satisfied: urllib3<3,>=1.21.1 in c:\\users\\tabassum ayesha h.r\\appdata\\roaming\\python\\python312\\site-packages (from requests) (2.2.2)\n",
      "Requirement already satisfied: certifi>=2017.4.17 in c:\\users\\tabassum ayesha h.r\\appdata\\roaming\\python\\python312\\site-packages (from requests) (2024.7.4)\n",
      "Note: you may need to restart the kernel to use updated packages.\n"
     ]
    }
   ],
   "source": [
    "pip install requests"
   ]
  },
  {
   "cell_type": "code",
   "execution_count": 86,
   "id": "8ad8b949-cafa-4856-8ad0-0b869b073a12",
   "metadata": {},
   "outputs": [],
   "source": [
    "import requests"
   ]
  },
  {
   "cell_type": "code",
   "execution_count": 87,
   "id": "ac9c79bd-4cc7-48a9-8b85-d8ad48bff570",
   "metadata": {},
   "outputs": [],
   "source": [
    "def fetch_images(keyword):\n",
    "    access_key = 'G-lAvmc19ukogKh-DX55LSISdKod64Hv1ed4RTOA9u8'\n",
    "    url = f\"https://api.unsplash.com/search/photos?query={keyword}&client_id={access_key}\"\n",
    "    response = requests.get(url)\n",
    "    data = response.json()\n",
    "    image_urls = [image['urls']['small'] for image in data['results']]\n",
    "    return image_urls"
   ]
  },
  {
   "cell_type": "code",
   "execution_count": 88,
   "id": "b413f191-d4d6-4b50-a414-b23bea5fb8ae",
   "metadata": {},
   "outputs": [],
   "source": [
    "images = []\n",
    "for keyword in keywords:\n",
    "    images.extend(fetch_images(keyword))"
   ]
  },
  {
   "cell_type": "code",
   "execution_count": 89,
   "id": "0a0c8c91-fcd0-4184-90d9-4d31b0c631a6",
   "metadata": {},
   "outputs": [
    {
     "name": "stdout",
     "output_type": "stream",
     "text": [
      "Fetched image URLs:  ['https://images.unsplash.com/photo-1604594849809-dfedbc827105?crop=entropy&cs=tinysrgb&fit=max&fm=jpg&ixid=M3w2NTIwNzJ8MHwxfHNlYXJjaHwxfHxyaWNofGVufDB8fHx8MTcyOTk1OTI2NXww&ixlib=rb-4.0.3&q=80&w=400', 'https://images.unsplash.com/photo-1590337363833-86fe08393e42?crop=entropy&cs=tinysrgb&fit=max&fm=jpg&ixid=M3w2NTIwNzJ8MHwxfHNlYXJjaHwyfHxyaWNofGVufDB8fHx8MTcyOTk1OTI2NXww&ixlib=rb-4.0.3&q=80&w=400', 'https://images.unsplash.com/photo-1542727303-6acb61bf8289?crop=entropy&cs=tinysrgb&fit=max&fm=jpg&ixid=M3w2NTIwNzJ8MHwxfHNlYXJjaHwzfHxyaWNofGVufDB8fHx8MTcyOTk1OTI2NXww&ixlib=rb-4.0.3&q=80&w=400', 'https://images.unsplash.com/photo-1610375461246-83df859d849d?crop=entropy&cs=tinysrgb&fit=max&fm=jpg&ixid=M3w2NTIwNzJ8MHwxfHNlYXJjaHw0fHxyaWNofGVufDB8fHx8MTcyOTk1OTI2NXww&ixlib=rb-4.0.3&q=80&w=400', 'https://images.unsplash.com/photo-1606695252368-b2a09b5f324a?crop=entropy&cs=tinysrgb&fit=max&fm=jpg&ixid=M3w2NTIwNzJ8MHwxfHNlYXJjaHw1fHxyaWNofGVufDB8fHx8MTcyOTk1OTI2NXww&ixlib=rb-4.0.3&q=80&w=400', 'https://images.unsplash.com/photo-1616645004064-aebe96923cbb?crop=entropy&cs=tinysrgb&fit=max&fm=jpg&ixid=M3w2NTIwNzJ8MHwxfHNlYXJjaHw2fHxyaWNofGVufDB8fHx8MTcyOTk1OTI2NXww&ixlib=rb-4.0.3&q=80&w=400', 'https://images.unsplash.com/photo-1610902417620-dcae662b997d?crop=entropy&cs=tinysrgb&fit=max&fm=jpg&ixid=M3w2NTIwNzJ8MHwxfHNlYXJjaHw3fHxyaWNofGVufDB8fHx8MTcyOTk1OTI2NXww&ixlib=rb-4.0.3&q=80&w=400', 'https://images.unsplash.com/photo-1496328289142-9a47ef5b544b?crop=entropy&cs=tinysrgb&fit=max&fm=jpg&ixid=M3w2NTIwNzJ8MHwxfHNlYXJjaHw4fHxyaWNofGVufDB8fHx8MTcyOTk1OTI2NXww&ixlib=rb-4.0.3&q=80&w=400', 'https://images.unsplash.com/photo-1632044889829-7770c6296ca0?crop=entropy&cs=tinysrgb&fit=max&fm=jpg&ixid=M3w2NTIwNzJ8MHwxfHNlYXJjaHw5fHxyaWNofGVufDB8fHx8MTcyOTk1OTI2NXww&ixlib=rb-4.0.3&q=80&w=400', 'https://images.unsplash.com/photo-1606189934732-1c274f894bf9?crop=entropy&cs=tinysrgb&fit=max&fm=jpg&ixid=M3w2NTIwNzJ8MHwxfHNlYXJjaHwxMHx8cmljaHxlbnwwfHx8fDE3Mjk5NTkyNjV8MA&ixlib=rb-4.0.3&q=80&w=400', 'https://images.unsplash.com/photo-1630048110172-1b3eabc71045?crop=entropy&cs=tinysrgb&fit=max&fm=jpg&ixid=M3w2NTIwNzJ8MHwxfHNlYXJjaHwxfHxtdWNofGVufDB8fHx8MTcyOTk1OTI3MHww&ixlib=rb-4.0.3&q=80&w=400', 'https://images.unsplash.com/photo-1647335762657-f4baa6537f67?crop=entropy&cs=tinysrgb&fit=max&fm=jpg&ixid=M3w2NTIwNzJ8MHwxfHNlYXJjaHwyfHxtdWNofGVufDB8fHx8MTcyOTk1OTI3MHww&ixlib=rb-4.0.3&q=80&w=400', 'https://images.unsplash.com/photo-1646928106153-c2c09396dfaf?crop=entropy&cs=tinysrgb&fit=max&fm=jpg&ixid=M3w2NTIwNzJ8MHwxfHNlYXJjaHwzfHxtdWNofGVufDB8fHx8MTcyOTk1OTI3MHww&ixlib=rb-4.0.3&q=80&w=400', 'https://images.unsplash.com/photo-1621536816062-b9d0b663d96a?crop=entropy&cs=tinysrgb&fit=max&fm=jpg&ixid=M3w2NTIwNzJ8MHwxfHNlYXJjaHw0fHxtdWNofGVufDB8fHx8MTcyOTk1OTI3MHww&ixlib=rb-4.0.3&q=80&w=400', 'https://images.unsplash.com/photo-1604086395342-83acbe77e869?crop=entropy&cs=tinysrgb&fit=max&fm=jpg&ixid=M3w2NTIwNzJ8MHwxfHNlYXJjaHw1fHxtdWNofGVufDB8fHx8MTcyOTk1OTI3MHww&ixlib=rb-4.0.3&q=80&w=400', 'https://images.unsplash.com/photo-1647335763880-f5e9ef04dfae?crop=entropy&cs=tinysrgb&fit=max&fm=jpg&ixid=M3w2NTIwNzJ8MHwxfHNlYXJjaHw2fHxtdWNofGVufDB8fHx8MTcyOTk1OTI3MHww&ixlib=rb-4.0.3&q=80&w=400', 'https://images.unsplash.com/photo-1604086395108-1aea7e487f8c?crop=entropy&cs=tinysrgb&fit=max&fm=jpg&ixid=M3w2NTIwNzJ8MHwxfHNlYXJjaHw3fHxtdWNofGVufDB8fHx8MTcyOTk1OTI3MHww&ixlib=rb-4.0.3&q=80&w=400', 'https://images.unsplash.com/photo-1647335762660-a4405a6fa44f?crop=entropy&cs=tinysrgb&fit=max&fm=jpg&ixid=M3w2NTIwNzJ8MHwxfHNlYXJjaHw4fHxtdWNofGVufDB8fHx8MTcyOTk1OTI3MHww&ixlib=rb-4.0.3&q=80&w=400', 'https://images.unsplash.com/photo-1646928113966-19713e0dac6a?crop=entropy&cs=tinysrgb&fit=max&fm=jpg&ixid=M3w2NTIwNzJ8MHwxfHNlYXJjaHw5fHxtdWNofGVufDB8fHx8MTcyOTk1OTI3MHww&ixlib=rb-4.0.3&q=80&w=400', 'https://images.unsplash.com/photo-1471228584045-ab05d7fd779b?crop=entropy&cs=tinysrgb&fit=max&fm=jpg&ixid=M3w2NTIwNzJ8MHwxfHNlYXJjaHwxMHx8bXVjaHxlbnwwfHx8fDE3Mjk5NTkyNzB8MA&ixlib=rb-4.0.3&q=80&w=400', 'https://images.unsplash.com/photo-1502920514313-52581002a659?crop=entropy&cs=tinysrgb&fit=max&fm=jpg&ixid=M3w2NTIwNzJ8MHwxfHNlYXJjaHwxfHxtb25leXxlbnwwfHx8fDE3Mjk5NTkyNzV8MA&ixlib=rb-4.0.3&q=80&w=400', 'https://images.unsplash.com/photo-1593672715438-d88a70629abe?crop=entropy&cs=tinysrgb&fit=max&fm=jpg&ixid=M3w2NTIwNzJ8MHwxfHNlYXJjaHwyfHxtb25leXxlbnwwfHx8fDE3Mjk5NTkyNzV8MA&ixlib=rb-4.0.3&q=80&w=400', 'https://images.unsplash.com/photo-1459257831348-f0cdd359235f?crop=entropy&cs=tinysrgb&fit=max&fm=jpg&ixid=M3w2NTIwNzJ8MHwxfHNlYXJjaHwzfHxtb25leXxlbnwwfHx8fDE3Mjk5NTkyNzV8MA&ixlib=rb-4.0.3&q=80&w=400', 'https://images.unsplash.com/photo-1500496733680-167c3db69389?crop=entropy&cs=tinysrgb&fit=max&fm=jpg&ixid=M3w2NTIwNzJ8MHwxfHNlYXJjaHw0fHxtb25leXxlbnwwfHx8fDE3Mjk5NTkyNzV8MA&ixlib=rb-4.0.3&q=80&w=400', 'https://images.unsplash.com/photo-1515606378517-3451a4fa2e12?crop=entropy&cs=tinysrgb&fit=max&fm=jpg&ixid=M3w2NTIwNzJ8MHwxfHNlYXJjaHw1fHxtb25leXxlbnwwfHx8fDE3Mjk5NTkyNzV8MA&ixlib=rb-4.0.3&q=80&w=400', 'https://images.unsplash.com/photo-1593672755342-741a7f868732?crop=entropy&cs=tinysrgb&fit=max&fm=jpg&ixid=M3w2NTIwNzJ8MHwxfHNlYXJjaHw2fHxtb25leXxlbnwwfHx8fDE3Mjk5NTkyNzV8MA&ixlib=rb-4.0.3&q=80&w=400', 'https://images.unsplash.com/photo-1553729459-efe14ef6055d?crop=entropy&cs=tinysrgb&fit=max&fm=jpg&ixid=M3w2NTIwNzJ8MHwxfHNlYXJjaHw3fHxtb25leXxlbnwwfHx8fDE3Mjk5NTkyNzV8MA&ixlib=rb-4.0.3&q=80&w=400', 'https://images.unsplash.com/photo-1518458028785-8fbcd101ebb9?crop=entropy&cs=tinysrgb&fit=max&fm=jpg&ixid=M3w2NTIwNzJ8MHwxfHNlYXJjaHw4fHxtb25leXxlbnwwfHx8fDE3Mjk5NTkyNzV8MA&ixlib=rb-4.0.3&q=80&w=400', 'https://images.unsplash.com/photo-1515180711443-f8685c6d6a74?crop=entropy&cs=tinysrgb&fit=max&fm=jpg&ixid=M3w2NTIwNzJ8MHwxfHNlYXJjaHw5fHxtb25leXxlbnwwfHx8fDE3Mjk5NTkyNzV8MA&ixlib=rb-4.0.3&q=80&w=400', 'https://images.unsplash.com/photo-1475650522725-015d35677789?crop=entropy&cs=tinysrgb&fit=max&fm=jpg&ixid=M3w2NTIwNzJ8MHwxfHNlYXJjaHwxMHx8bW9uZXl8ZW58MHx8fHwxNzI5OTU5Mjc1fDA&ixlib=rb-4.0.3&q=80&w=400', 'https://images.unsplash.com/photo-1528844573475-9240ba9c0f5c?crop=entropy&cs=tinysrgb&fit=max&fm=jpg&ixid=M3w2NTIwNzJ8MHwxfHNlYXJjaHwxfHxzdWRkZW58ZW58MHx8fHwxNzI5OTU5Mjc3fDA&ixlib=rb-4.0.3&q=80&w=400', 'https://images.unsplash.com/photo-1528843857132-a3d53de8be3d?crop=entropy&cs=tinysrgb&fit=max&fm=jpg&ixid=M3w2NTIwNzJ8MHwxfHNlYXJjaHwyfHxzdWRkZW58ZW58MHx8fHwxNzI5OTU5Mjc3fDA&ixlib=rb-4.0.3&q=80&w=400', 'https://images.unsplash.com/photo-1633975530058-5194d97799b1?crop=entropy&cs=tinysrgb&fit=max&fm=jpg&ixid=M3w2NTIwNzJ8MHwxfHNlYXJjaHwzfHxzdWRkZW58ZW58MHx8fHwxNzI5OTU5Mjc3fDA&ixlib=rb-4.0.3&q=80&w=400', 'https://images.unsplash.com/photo-1657643423050-8a125d993377?crop=entropy&cs=tinysrgb&fit=max&fm=jpg&ixid=M3w2NTIwNzJ8MHwxfHNlYXJjaHw0fHxzdWRkZW58ZW58MHx8fHwxNzI5OTU5Mjc3fDA&ixlib=rb-4.0.3&q=80&w=400', 'https://images.unsplash.com/photo-1520179942687-0d7dc321a7ff?crop=entropy&cs=tinysrgb&fit=max&fm=jpg&ixid=M3w2NTIwNzJ8MHwxfHNlYXJjaHw1fHxzdWRkZW58ZW58MHx8fHwxNzI5OTU5Mjc3fDA&ixlib=rb-4.0.3&q=80&w=400', 'https://images.unsplash.com/photo-1699645522859-512f53d4a4bf?crop=entropy&cs=tinysrgb&fit=max&fm=jpg&ixid=M3w2NTIwNzJ8MHwxfHNlYXJjaHw2fHxzdWRkZW58ZW58MHx8fHwxNzI5OTU5Mjc3fDA&ixlib=rb-4.0.3&q=80&w=400', 'https://images.unsplash.com/photo-1561708465-618441a93b7c?crop=entropy&cs=tinysrgb&fit=max&fm=jpg&ixid=M3w2NTIwNzJ8MHwxfHNlYXJjaHw3fHxzdWRkZW58ZW58MHx8fHwxNzI5OTU5Mjc3fDA&ixlib=rb-4.0.3&q=80&w=400', 'https://images.unsplash.com/photo-1579115999906-87ae4152ed03?crop=entropy&cs=tinysrgb&fit=max&fm=jpg&ixid=M3w2NTIwNzJ8MHwxfHNlYXJjaHw4fHxzdWRkZW58ZW58MHx8fHwxNzI5OTU5Mjc3fDA&ixlib=rb-4.0.3&q=80&w=400', 'https://images.unsplash.com/photo-1652004726967-39787bb90c7f?crop=entropy&cs=tinysrgb&fit=max&fm=jpg&ixid=M3w2NTIwNzJ8MHwxfHNlYXJjaHw5fHxzdWRkZW58ZW58MHx8fHwxNzI5OTU5Mjc3fDA&ixlib=rb-4.0.3&q=80&w=400', 'https://images.unsplash.com/photo-1699645589794-b5f0c8483cf1?crop=entropy&cs=tinysrgb&fit=max&fm=jpg&ixid=M3w2NTIwNzJ8MHwxfHNlYXJjaHwxMHx8c3VkZGVufGVufDB8fHx8MTcyOTk1OTI3N3ww&ixlib=rb-4.0.3&q=80&w=400', 'https://images.unsplash.com/photo-1502920514313-52581002a659?crop=entropy&cs=tinysrgb&fit=max&fm=jpg&ixid=M3w2NTIwNzJ8MHwxfHNlYXJjaHwxfHxtb25leXxlbnwwfHx8fDE3Mjk5NTkyNzV8MA&ixlib=rb-4.0.3&q=80&w=400', 'https://images.unsplash.com/photo-1593672715438-d88a70629abe?crop=entropy&cs=tinysrgb&fit=max&fm=jpg&ixid=M3w2NTIwNzJ8MHwxfHNlYXJjaHwyfHxtb25leXxlbnwwfHx8fDE3Mjk5NTkyNzV8MA&ixlib=rb-4.0.3&q=80&w=400', 'https://images.unsplash.com/photo-1459257831348-f0cdd359235f?crop=entropy&cs=tinysrgb&fit=max&fm=jpg&ixid=M3w2NTIwNzJ8MHwxfHNlYXJjaHwzfHxtb25leXxlbnwwfHx8fDE3Mjk5NTkyNzV8MA&ixlib=rb-4.0.3&q=80&w=400', 'https://images.unsplash.com/photo-1500496733680-167c3db69389?crop=entropy&cs=tinysrgb&fit=max&fm=jpg&ixid=M3w2NTIwNzJ8MHwxfHNlYXJjaHw0fHxtb25leXxlbnwwfHx8fDE3Mjk5NTkyNzV8MA&ixlib=rb-4.0.3&q=80&w=400', 'https://images.unsplash.com/photo-1515606378517-3451a4fa2e12?crop=entropy&cs=tinysrgb&fit=max&fm=jpg&ixid=M3w2NTIwNzJ8MHwxfHNlYXJjaHw1fHxtb25leXxlbnwwfHx8fDE3Mjk5NTkyNzV8MA&ixlib=rb-4.0.3&q=80&w=400', 'https://images.unsplash.com/photo-1593672755342-741a7f868732?crop=entropy&cs=tinysrgb&fit=max&fm=jpg&ixid=M3w2NTIwNzJ8MHwxfHNlYXJjaHw2fHxtb25leXxlbnwwfHx8fDE3Mjk5NTkyNzV8MA&ixlib=rb-4.0.3&q=80&w=400', 'https://images.unsplash.com/photo-1553729459-efe14ef6055d?crop=entropy&cs=tinysrgb&fit=max&fm=jpg&ixid=M3w2NTIwNzJ8MHwxfHNlYXJjaHw3fHxtb25leXxlbnwwfHx8fDE3Mjk5NTkyNzV8MA&ixlib=rb-4.0.3&q=80&w=400', 'https://images.unsplash.com/photo-1518458028785-8fbcd101ebb9?crop=entropy&cs=tinysrgb&fit=max&fm=jpg&ixid=M3w2NTIwNzJ8MHwxfHNlYXJjaHw4fHxtb25leXxlbnwwfHx8fDE3Mjk5NTkyNzV8MA&ixlib=rb-4.0.3&q=80&w=400', 'https://images.unsplash.com/photo-1515180711443-f8685c6d6a74?crop=entropy&cs=tinysrgb&fit=max&fm=jpg&ixid=M3w2NTIwNzJ8MHwxfHNlYXJjaHw5fHxtb25leXxlbnwwfHx8fDE3Mjk5NTkyNzV8MA&ixlib=rb-4.0.3&q=80&w=400', 'https://images.unsplash.com/photo-1475650522725-015d35677789?crop=entropy&cs=tinysrgb&fit=max&fm=jpg&ixid=M3w2NTIwNzJ8MHwxfHNlYXJjaHwxMHx8bW9uZXl8ZW58MHx8fHwxNzI5OTU5Mjc1fDA&ixlib=rb-4.0.3&q=80&w=400']\n"
     ]
    }
   ],
   "source": [
    "print(\"Fetched image URLs: \", images)"
   ]
  },
  {
   "cell_type": "code",
   "execution_count": 90,
   "id": "6d32642d-cadc-42ca-b6aa-c681ad184cd4",
   "metadata": {},
   "outputs": [
    {
     "name": "stdout",
     "output_type": "stream",
     "text": [
      "Defaulting to user installation because normal site-packages is not writeable\n",
      "Requirement already satisfied: Pillow in c:\\users\\tabassum ayesha h.r\\appdata\\roaming\\python\\python312\\site-packages (10.4.0)\n",
      "Note: you may need to restart the kernel to use updated packages.\n"
     ]
    }
   ],
   "source": [
    "pip install Pillow"
   ]
  },
  {
   "cell_type": "code",
   "execution_count": 91,
   "id": "6a3618aa-ab71-4857-b68f-d89181ee3b0c",
   "metadata": {},
   "outputs": [],
   "source": [
    "from PIL import Image"
   ]
  },
  {
   "cell_type": "code",
   "execution_count": 92,
   "id": "b303624e-1227-4cab-9bb8-54986bd52a71",
   "metadata": {},
   "outputs": [],
   "source": [
    "import requests"
   ]
  },
  {
   "cell_type": "code",
   "execution_count": 93,
   "id": "a0fca1a0-8879-44c6-81ba-4ae34f47c790",
   "metadata": {},
   "outputs": [],
   "source": [
    "from io import BytesIO"
   ]
  },
  {
   "cell_type": "code",
   "execution_count": 94,
   "id": "85f5904c-7986-413a-bd52-a229ffa89c64",
   "metadata": {},
   "outputs": [],
   "source": [
    "def create_collage(image_urls):\n",
    "    images = [Image.open(BytesIO(requests.get(url).content)) for url in image_urls[:4]]  # Fetch the first 4 images\n",
    "    widths, heights = zip(*(img.size for img in images))\n",
    "\n",
    "    total_width = sum(widths)\n",
    "    max_height = max(heights)\n",
    "\n",
    "    collage = Image.new('RGB', (total_width, max_height))\n",
    "\n",
    "    x_offset = 0\n",
    "    for img in images:\n",
    "        collage.paste(img, (x_offset, 0))\n",
    "        x_offset += img.width\n",
    "\n",
    "    collage.show()\n"
   ]
  },
  {
   "cell_type": "code",
   "execution_count": null,
   "id": "dd72a46e-9279-441b-85a0-621651291840",
   "metadata": {},
   "outputs": [],
   "source": [
    "create_collage(images)"
   ]
  },
  {
   "cell_type": "code",
   "execution_count": null,
   "id": "fcfcb234-79dd-4a64-8ce8-170d2284e226",
   "metadata": {},
   "outputs": [],
   "source": []
  },
  {
   "cell_type": "code",
   "execution_count": null,
   "id": "b8277155-ad77-48e4-b6a2-91b6a386f4e2",
   "metadata": {},
   "outputs": [],
   "source": []
  },
  {
   "cell_type": "code",
   "execution_count": null,
   "id": "7dacb0e7-4477-4371-b8d1-950b25e511d1",
   "metadata": {},
   "outputs": [],
   "source": []
  }
 ],
 "metadata": {
  "kernelspec": {
   "display_name": "Python 3 (ipykernel)",
   "language": "python",
   "name": "python3"
  },
  "language_info": {
   "codemirror_mode": {
    "name": "ipython",
    "version": 3
   },
   "file_extension": ".py",
   "mimetype": "text/x-python",
   "name": "python",
   "nbconvert_exporter": "python",
   "pygments_lexer": "ipython3",
   "version": "3.12.5"
  }
 },
 "nbformat": 4,
 "nbformat_minor": 5
}
